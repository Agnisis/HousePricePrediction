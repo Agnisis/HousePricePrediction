{
 "cells": [
  {
   "cell_type": "code",
   "execution_count": null,
   "id": "17adeb03",
   "metadata": {},
   "outputs": [],
   "source": [
    "##Boston House Prediction Model With Machine Learning And Data Visualization"
   ]
  }
 ],
 "metadata": {
  "kernelspec": {
   "display_name": "Python 3 (ipykernel)",
   "language": "python",
   "name": "python3"
  },
  "language_info": {
   "codemirror_mode": {
    "name": "ipython",
    "version": 3
   },
   "file_extension": ".py",
   "mimetype": "text/x-python",
   "name": "python",
   "nbconvert_exporter": "python",
   "pygments_lexer": "ipython3",
   "version": "3.10.8"
  }
 },
 "nbformat": 4,
 "nbformat_minor": 5
}
